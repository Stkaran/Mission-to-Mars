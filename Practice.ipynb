{
 "cells": [
  {
   "cell_type": "code",
   "execution_count": 1,
   "id": "1d54a5d7",
   "metadata": {},
   "outputs": [],
   "source": [
    "from splinter import Browser\n",
    "from bs4 import BeautifulSoup as soup\n",
    "from webdriver_manager.chrome import ChromeDriverManager"
   ]
  },
  {
   "cell_type": "code",
   "execution_count": 2,
   "id": "4dc3b7c9",
   "metadata": {},
   "outputs": [
    {
     "name": "stderr",
     "output_type": "stream",
     "text": [
      "[WDM] - \n",
      "\n",
      "[WDM] - ====== WebDriver manager ======\n",
      "[WDM] - Current google-chrome version is 95.0.4638\n",
      "[WDM] - Get LATEST driver version for 95.0.4638\n",
      "[WDM] - There is no [win32] chromedriver for browser 95.0.4638 in cache\n",
      "[WDM] - Get LATEST driver version for 95.0.4638\n",
      "[WDM] - Trying to download new driver from https://chromedriver.storage.googleapis.com/95.0.4638.54/chromedriver_win32.zip\n",
      "[WDM] - Driver has been saved in cache [C:\\Users\\Kuk1e\\.wdm\\drivers\\chromedriver\\win32\\95.0.4638.54]\n"
     ]
    }
   ],
   "source": [
    "# Set up Splinter\n",
    "executable_path = {'executable_path': ChromeDriverManager().install()}\n",
    "browser = Browser('chrome', **executable_path, headless=False)"
   ]
  },
  {
   "cell_type": "code",
   "execution_count": 3,
   "id": "a15e2585",
   "metadata": {},
   "outputs": [],
   "source": [
    "# Visit the Quotes to Scrape site\n",
    "url = 'http://quotes.toscrape.com/'\n",
    "browser.visit(url)"
   ]
  },
  {
   "cell_type": "code",
   "execution_count": 4,
   "id": "28a9d68f",
   "metadata": {},
   "outputs": [],
   "source": [
    "# Parse the HTML\n",
    "html = browser.html\n",
    "html_soup = soup(html, 'html.parser')"
   ]
  },
  {
   "cell_type": "code",
   "execution_count": 5,
   "id": "64666c75",
   "metadata": {},
   "outputs": [
    {
     "data": {
      "text/plain": [
       "'Top Ten tags'"
      ]
     },
     "execution_count": 5,
     "metadata": {},
     "output_type": "execute_result"
    }
   ],
   "source": [
    "# Scrape the Title\n",
    "title = html_soup.find('h2').text\n",
    "title"
   ]
  },
  {
   "cell_type": "code",
   "execution_count": 6,
   "id": "239249f9",
   "metadata": {},
   "outputs": [
    {
     "name": "stdout",
     "output_type": "stream",
     "text": [
      "love\n",
      "inspirational\n",
      "life\n",
      "humor\n",
      "books\n",
      "reading\n",
      "friendship\n",
      "friends\n",
      "truth\n",
      "simile\n"
     ]
    }
   ],
   "source": [
    "# Scrape the top ten tags\n",
    "tag_box = html_soup.find('div', class_='tags-box')\n",
    "# tag_box\n",
    "tags = tag_box.find_all('a', class_='tag')\n",
    "\n",
    "for tag in tags:\n",
    "    word = tag.text\n",
    "    print(word)"
   ]
  },
  {
   "cell_type": "code",
   "execution_count": 7,
   "id": "ef210189",
   "metadata": {},
   "outputs": [
    {
     "name": "stdout",
     "output_type": "stream",
     "text": [
      "page: 1 ----------\n",
      "“The world as we have created it is a process of our thinking. It cannot be changed without changing our thinking.”\n",
      "page: 1 ----------\n",
      "“It is our choices, Harry, that show what we truly are, far more than our abilities.”\n",
      "page: 1 ----------\n",
      "“There are only two ways to live your life. One is as though nothing is a miracle. The other is as though everything is a miracle.”\n",
      "page: 1 ----------\n",
      "“The person, be it gentleman or lady, who has not pleasure in a good novel, must be intolerably stupid.”\n",
      "page: 1 ----------\n",
      "“Imperfection is beauty, madness is genius and it's better to be absolutely ridiculous than absolutely boring.”\n",
      "page: 1 ----------\n",
      "“Try not to become a man of success. Rather become a man of value.”\n",
      "page: 1 ----------\n",
      "“It is better to be hated for what you are than to be loved for what you are not.”\n",
      "page: 1 ----------\n",
      "“I have not failed. I've just found 10,000 ways that won't work.”\n",
      "page: 1 ----------\n",
      "“A woman is like a tea bag; you never know how strong it is until it's in hot water.”\n",
      "page: 1 ----------\n",
      "“A day without sunshine is like, you know, night.”\n",
      "page: 2 ----------\n",
      "“This life is what you make it. No matter what, you're going to mess up sometimes, it's a universal truth. But the good part is you get to decide how you're going to mess it up. Girls will be your friends - they'll act like it anyway. But just remember, some come, some go. The ones that stay with you through everything - they're your true best friends. Don't let go of them. Also remember, sisters make the best friends in the world. As for lovers, well, they'll come and go too. And baby, I hate to say it, most of them - actually pretty much all of them are going to break your heart, but you can't give up because if you give up, you'll never find your soulmate. You'll never find that half who makes you whole and that goes for everything. Just because you fail once, doesn't mean you're gonna fail at everything. Keep trying, hold on, and always, always, always believe in yourself, because if you don't, then who will, sweetie? So keep your head high, keep your chin up, and most importantly, keep smiling, because life's a beautiful thing and there's so much to smile about.”\n",
      "page: 2 ----------\n",
      "“It takes a great deal of bravery to stand up to our enemies, but just as much to stand up to our friends.”\n",
      "page: 2 ----------\n",
      "“If you can't explain it to a six year old, you don't understand it yourself.”\n",
      "page: 2 ----------\n",
      "“You may not be her first, her last, or her only. She loved before she may love again. But if she loves you now, what else matters? She's not perfect—you aren't either, and the two of you may never be perfect together but if she can make you laugh, cause you to think twice, and admit to being human and making mistakes, hold onto her and give her the most you can. She may not be thinking about you every second of the day, but she will give you a part of her that she knows you can break—her heart. So don't hurt her, don't change her, don't analyze and don't expect more than she can give. Smile when she makes you happy, let her know when she makes you mad, and miss her when she's not there.”\n",
      "page: 2 ----------\n",
      "“I like nonsense, it wakes up the brain cells. Fantasy is a necessary ingredient in living.”\n",
      "page: 2 ----------\n",
      "“I may not have gone where I intended to go, but I think I have ended up where I needed to be.”\n",
      "page: 2 ----------\n",
      "“The opposite of love is not hate, it's indifference. The opposite of art is not ugliness, it's indifference. The opposite of faith is not heresy, it's indifference. And the opposite of life is not death, it's indifference.”\n",
      "page: 2 ----------\n",
      "“It is not a lack of love, but a lack of friendship that makes unhappy marriages.”\n",
      "page: 2 ----------\n",
      "“Good friends, good books, and a sleepy conscience: this is the ideal life.”\n",
      "page: 2 ----------\n",
      "“Life is what happens to us while we are making other plans.”\n",
      "page: 3 ----------\n",
      "“I love you without knowing how, or when, or from where. I love you simply, without problems or pride: I love you in this way because I do not know any other way of loving but this, in which there is no I or you, so intimate that your hand upon my chest is my hand, so intimate that when I fall asleep your eyes close.”\n",
      "page: 3 ----------\n",
      "“For every minute you are angry you lose sixty seconds of happiness.”\n",
      "page: 3 ----------\n",
      "“If you judge people, you have no time to love them.”\n",
      "page: 3 ----------\n",
      "“Anyone who thinks sitting in church can make you a Christian must also think that sitting in a garage can make you a car.”\n",
      "page: 3 ----------\n",
      "“Beauty is in the eye of the beholder and it may be necessary from time to time to give a stupid or misinformed beholder a black eye.”\n",
      "page: 3 ----------\n",
      "“Today you are You, that is truer than true. There is no one alive who is Youer than You.”\n",
      "page: 3 ----------\n",
      "“If you want your children to be intelligent, read them fairy tales. If you want them to be more intelligent, read them more fairy tales.”\n",
      "page: 3 ----------\n",
      "“It is impossible to live without failing at something, unless you live so cautiously that you might as well not have lived at all - in which case, you fail by default.”\n",
      "page: 3 ----------\n",
      "“Logic will get you from A to Z; imagination will get you everywhere.”\n",
      "page: 3 ----------\n",
      "“One good thing about music, when it hits you, you feel no pain.”\n",
      "page: 4 ----------\n",
      "“The more that you read, the more things you will know. The more that you learn, the more places you'll go.”\n",
      "page: 4 ----------\n",
      "“Of course it is happening inside your head, Harry, but why on earth should that mean that it is not real?”\n",
      "page: 4 ----------\n",
      "“The truth is, everyone is going to hurt you. You just got to find the ones worth suffering for.”\n",
      "page: 4 ----------\n",
      "“Not all of us can do great things. But we can do small things with great love.”\n",
      "page: 4 ----------\n",
      "“To the well-organized mind, death is but the next great adventure.”\n",
      "page: 4 ----------\n",
      "“All you need is love. But a little chocolate now and then doesn't hurt.”\n",
      "page: 4 ----------\n",
      "“We read to know we're not alone.”\n",
      "page: 4 ----------\n",
      "“Any fool can know. The point is to understand.”\n",
      "page: 4 ----------\n",
      "“I have always imagined that Paradise will be a kind of library.”\n",
      "page: 4 ----------\n",
      "“It is never too late to be what you might have been.”\n",
      "page: 5 ----------\n",
      "“A reader lives a thousand lives before he dies, said Jojen. The man who never reads lives only one.”\n",
      "page: 5 ----------\n",
      "“You can never get a cup of tea large enough or a book long enough to suit me.”\n",
      "page: 5 ----------\n",
      "“You believe lies so you eventually learn to trust no one but yourself.”\n",
      "page: 5 ----------\n",
      "“If you can make a woman laugh, you can make her do anything.”\n",
      "page: 5 ----------\n",
      "“Life is like riding a bicycle. To keep your balance, you must keep moving.”\n",
      "page: 5 ----------\n",
      "“The real lover is the man who can thrill you by kissing your forehead or smiling into your eyes or just staring into space.”\n",
      "page: 5 ----------\n",
      "“A wise girl kisses but doesn't love, listens but doesn't believe, and leaves before she is left.”\n",
      "page: 5 ----------\n",
      "“Only in the darkness can you see the stars.”\n",
      "page: 5 ----------\n",
      "“It matters not what someone is born, but what they grow to be.”\n",
      "page: 5 ----------\n",
      "“Love does not begin and end the way we seem to think it does. Love is a battle, love is a war; love is a growing up.”\n"
     ]
    }
   ],
   "source": [
    "for x in range(1, 6):\n",
    "   html = browser.html\n",
    "   quote_soup = soup(html, 'html.parser')\n",
    "   quotes = quote_soup.find_all('span', class_='text')\n",
    "   for quote in quotes:\n",
    "      print('page:', x, '----------')\n",
    "      print(quote.text)\n",
    "   browser.links.find_by_partial_text('Next').click()"
   ]
  },
  {
   "cell_type": "code",
   "execution_count": 5,
   "id": "60b04619",
   "metadata": {},
   "outputs": [],
   "source": [
    " # Dependencies\n",
    "import os\n",
    "from bs4 import BeautifulSoup as bs"
   ]
  },
  {
   "cell_type": "code",
   "execution_count": 7,
   "id": "62cfd568",
   "metadata": {},
   "outputs": [],
   "source": [
    "# Read HTML from file\n",
    "filepath = os.path.join(\"Resources\", \"template.html\")\n",
    "with open(filepath) as file:\n",
    "    html = file.read()"
   ]
  },
  {
   "cell_type": "code",
   "execution_count": 8,
   "id": "3eb24d58",
   "metadata": {},
   "outputs": [],
   "source": [
    " # Create a Beautiful Soup object\n",
    "soup = bs(html, 'html.parser')"
   ]
  },
  {
   "cell_type": "code",
   "execution_count": 9,
   "id": "69bbff9e",
   "metadata": {},
   "outputs": [],
   "source": [
    " # Print all ten headlines\n",
    "tds = soup.find_all('td')\n",
    "# A blank list to hold the headlines\n",
    "headlines = []\n",
    "# Loop over td elements\n",
    "for td in tds:\n",
    "    # If td element has an anchor...\n",
    "    if (td.a):\n",
    "        # And the anchor has non-blank text...\n",
    "        if (td.a.text):\n",
    "            # Append the td to the list\n",
    "            headlines.append(td)"
   ]
  },
  {
   "cell_type": "code",
   "execution_count": 10,
   "id": "f2e93729",
   "metadata": {},
   "outputs": [
    {
     "name": "stdout",
     "output_type": "stream",
     "text": [
      "Israel elects Netanyahu\n",
      "Crash of TWA Flight 800\n",
      "Russia elects Yeltsin\n",
      "U.S. elects Clinton\n",
      "Hutu-Tutsi conflict in central Africa\n",
      "Peace, elections in Bosnia\n",
      "U.S. base bombed in Saudi Arabia\n",
      "Centennial Olympic Games\n",
      "Advances against AIDS\n",
      "Unabomb suspect Ted Kaczynski arrested\n"
     ]
    }
   ],
   "source": [
    " # Print only the headlines\n",
    "for x in range(10):\n",
    "    print(headlines[x].text)   "
   ]
  },
  {
   "cell_type": "code",
   "execution_count": 1,
   "id": "c5927a53",
   "metadata": {},
   "outputs": [],
   "source": [
    "# Dependencies\n",
    "from bs4 import BeautifulSoup\n",
    "import requests\n",
    "import pymongo"
   ]
  },
  {
   "cell_type": "code",
   "execution_count": 2,
   "id": "5f99efca",
   "metadata": {},
   "outputs": [],
   "source": [
    " # Initialize PyMongo to work with MongoDBs\n",
    "conn = 'mongodb://localhost:27017'\n",
    "client = pymongo.MongoClient(conn)"
   ]
  },
  {
   "cell_type": "code",
   "execution_count": 3,
   "id": "1b9151a4",
   "metadata": {},
   "outputs": [],
   "source": [
    " # Define database and collection\n",
    "db = client.nhl_db\n",
    "collection = db.articles"
   ]
  },
  {
   "cell_type": "code",
   "execution_count": 5,
   "id": "e0af7729",
   "metadata": {},
   "outputs": [],
   "source": [
    "# URL of page to be scraped\n",
    "url = 'https://www.nhl.com/news'\n",
    "\n",
    "# Retrieve page with the requests module\n",
    "response = requests.get(url)\n",
    "# Create BeautifulSoup object; parse with 'html.parser'\n",
    "soup = BeautifulSoup(response.text, 'html.parser')"
   ]
  },
  {
   "cell_type": "code",
   "execution_count": 6,
   "id": "88e8950f",
   "metadata": {},
   "outputs": [
    {
     "name": "stdout",
     "output_type": "stream",
     "text": [
      "-----------------\n",
      "Fox agrees to seven-year, $66.5 million contract with Rangers\n",
      "Won Norris Trophy as NHL's best defenseman last season, could have become restricted free agent\n",
      "2021-11-01\n",
      "-----------------\n",
      "Blackhawks case 'wake-up call' for all teams, Commissioner Bettman says\n",
      "NHL to seek input from outside professionals, create network to help at all levels in wake of sexual abuse report\n",
      "2021-11-01\n",
      "-----------------\n",
      "Paquette suspended two games for actions in Canadiens game\n",
      "Forward penalized for boarding Zegras of Ducks\n",
      "2021-11-01\n",
      "-----------------\n",
      "Caufield assigned to AHL by Canadiens\n",
      "20-year-old forward has one assist in 10 games this season\n",
      "2021-11-01\n",
      "-----------------\n",
      "Fantasy hockey top 100 forward rankings\n",
      "Most valuable options at position in standard leagues for rest of season; podcast\n",
      "2021-11-01\n",
      "-----------------\n",
      "Aho discusses Hurricanes' Stanley Cup chances in sit-down with NHL.com\n",
      "Center unveils best Finland-born player to watch, favorite taste from home\n",
      "2021-10-31\n",
      "-----------------\n",
      "Rookie Watch: Knight, Raymond among best so far in Atlantic Division\n",
      "Panthers goalie picking up where he left off last season; Red Wings forward has nine points in nine games\n",
      "2021-11-01\n",
      "-----------------\n",
      "Markstrom leads 3 Stars of the Week\n",
      "Flames goalie, Senators forward Batherson, Lightning wing Killorn earn honors\n",
      "2021-11-01\n",
      "-----------------\n",
      "NHL Buzz: Kane returns to Blackhawks from COVID-19 protocol\n",
      "Ellis week to week for Flyers; Niederreiter sidelined for Hurricanes\n",
      "2021-11-01\n",
      "-----------------\n",
      "Moore embraces role as Hockey Fights Cancer ambassador\n",
      "Former NHL forward seeks to raise awareness of rare cancers in tribute to first wife\n",
      "2021-11-01\n",
      "-----------------\n",
      "Hockey Fights Cancer daily digest\n",
      "Latest news, images from around NHL\n",
      "2021-11-01\n",
      "-----------------\n",
      "Color of Hockey: Koelzer debuts as first Black woman to coach NCAA team\n",
      "All-American defenseman at Princeton helped build Division III Arcadia from scratch\n",
      "2021-11-01\n",
      "-----------------\n",
      "Wild proving resilient through injuries, COVID-19, coach says\n",
      "Evason discusses leadership transition, Kaprizov, goaltending in Q&A with NHL.com\n",
      "2021-11-01\n",
      "-----------------\n",
      "NHL players go all out, dress up for Halloween\n",
      "Creative costumes in abundance around the League this weekend\n",
      "2021-10-31\n",
      "-----------------\n",
      "Fantasy hockey top 10 waiver wire pickups\n",
      "Killorn, Stephenson producing on top lines for Lightning, Golden Knights; podcast\n",
      "2021-11-01\n",
      "-----------------\n",
      "Projected lineups, starting goalies for today\n",
      "Latest line combinations, defense pairs, injury news from NHL.com writers\n",
      "2021-11-01\n",
      "-----------------\n",
      "Commissioner Bettman, Beach discuss how NHL can better protect players\n",
      "Former prospect came forward as John Doe in Blackhawks investigation this week\n",
      "2021-10-30\n",
      "-----------------\n",
      "Hockey Hall to remove Aldrich's name from Cup at Blackhawks' request\n",
      "Beach alleges sexual assault by then-video coach in 2010 with Chicago\n",
      "2021-10-29\n",
      "-----------------\n",
      "Jets GM Cheveldayoff won't be disciplined by NHL in Blackhawks case\n",
      "League cannot 'assign to him responsibility' for Chicago's actions or inactions, Commissioner Bettman says\n",
      "2021-10-29\n",
      "-----------------\n",
      "NHL DFS player picks, projections\n",
      "Daily fantasy strategies, advice for upcoming contests; podcast analysis\n",
      "2021-11-01\n",
      "-----------------\n",
      "Bruins, Panthers honor Hayes' life with special jerseys, tribute video\n",
      "Former Florida and Boston forward who died in August, remembered by teammates\n",
      "2021-10-30\n",
      "-----------------\n",
      "Bruins put on virtual Halloween show for children from local hospitals\n",
      "Members of the team dressed as Snow White and the Seven Dwarfs to participate in spooky activities\n",
      "2021-10-30\n",
      "-----------------\n",
      "Jost, Compher scream, laugh their way through haunted house\n",
      "Avalanche forwards ran away from clowns, other monsters in scary setting\n",
      "2021-10-29\n",
      "-----------------\n",
      "Red Wings pull off wild sequence of blocks, saves against Panthers\n",
      "Crowd at Little Caesars Arena went crazy for collective defensive effort\n",
      "2021-10-30\n",
      "-----------------\n",
      "Fantasy hockey top 200 player rankings\n",
      "Most valuable overall options for standard league drafts; season preview podcasts\n",
      "2021-10-29\n",
      "-----------------\n",
      "Rielly signs eight-year, $60 million contract with Maple Leafs\n",
      "Defenseman, longest-tenured player on team, could have become unrestricted free agent after season\n",
      "2021-10-29\n",
      "-----------------\n",
      "Kyle Beach comes forward as John Doe in Blackhawks investigation\n",
      "Alleges he was sexually assaulted by former Chicago video coach Aldrich in 2010\n",
      "2021-10-28\n",
      "-----------------\n",
      "Quenneville resigns as Panthers coach, named in Blackhawks investigation\n",
      "Beach alleges sexual assault by then-assistant Aldrich in 2010 with Chicago; Brunette named replacement\n",
      "2021-10-29\n",
      "-----------------\n",
      "Hughes expected to be out at least five more weeks for Devils with injury\n",
      "Center will not need surgery for dislocated shoulder, has begun physical therapy\n",
      "2021-10-29\n",
      "-----------------\n",
      "On Campus: Top NHL prospects playing NCAA hockey\n",
      "Michigan stars Power, Beniers, Johnson among best\n",
      "2021-10-28\n"
     ]
    }
   ],
   "source": [
    "# Retrieve the parent divs for all articles\n",
    "results = soup.find_all('div', class_='article-item__top')\n",
    "\n",
    "# loop over results to get article data\n",
    "for result in results:\n",
    "    # scrape the article header \n",
    "    header = result.find('h1', class_='article-item__headline').text\n",
    "    \n",
    "    # scrape the article subheader\n",
    "    subheader = result.find('h2', class_='article-item__subheader').text\n",
    "    \n",
    "    # scrape the datetime\n",
    "    datetime = result.find('span', class_='article-item__date')['data-date'] \n",
    "    \n",
    "    # get only the date from the datetime\n",
    "    date = datetime.split('T')[0]\n",
    "    \n",
    "    # print article data\n",
    "    print('-----------------')\n",
    "    print(header)\n",
    "    print(subheader)\n",
    "    print(date)\n",
    "\n",
    "    # Dictionary to be inserted into MongoDB\n",
    "    post = {\n",
    "        'header': header,\n",
    "        'subheader': subheader,\n",
    "        'date': date,\n",
    "    }\n",
    "\n",
    "    # Insert dictionary into MongoDB as a document\n",
    "    collection.insert_one(post)"
   ]
  },
  {
   "cell_type": "code",
   "execution_count": 7,
   "id": "85d63407",
   "metadata": {},
   "outputs": [
    {
     "name": "stdout",
     "output_type": "stream",
     "text": [
      "{'_id': ObjectId('61808951c105e1cc9d2d774a'), 'header': 'Fox agrees to seven-year, $66.5 million contract with Rangers', 'subheader': \"Won Norris Trophy as NHL's best defenseman last season, could have become restricted free agent\", 'date': '2021-11-01'}\n",
      "{'_id': ObjectId('61808951c105e1cc9d2d774b'), 'header': \"Blackhawks case 'wake-up call' for all teams, Commissioner Bettman says\", 'subheader': 'NHL to seek input from outside professionals, create network to help at all levels in wake of sexual abuse report', 'date': '2021-11-01'}\n",
      "{'_id': ObjectId('61808951c105e1cc9d2d774c'), 'header': 'Paquette suspended two games for actions in Canadiens game', 'subheader': 'Forward penalized for boarding Zegras of Ducks', 'date': '2021-11-01'}\n",
      "{'_id': ObjectId('61808951c105e1cc9d2d774d'), 'header': 'Caufield assigned to AHL by Canadiens', 'subheader': '20-year-old forward has one assist in 10 games this season', 'date': '2021-11-01'}\n",
      "{'_id': ObjectId('61808951c105e1cc9d2d774e'), 'header': 'Fantasy hockey top 100 forward rankings', 'subheader': 'Most valuable options at position in standard leagues for rest of season; podcast', 'date': '2021-11-01'}\n",
      "{'_id': ObjectId('61808951c105e1cc9d2d774f'), 'header': \"Aho discusses Hurricanes' Stanley Cup chances in sit-down with NHL.com\", 'subheader': 'Center unveils best Finland-born player to watch, favorite taste from home', 'date': '2021-10-31'}\n",
      "{'_id': ObjectId('61808951c105e1cc9d2d7750'), 'header': 'Rookie Watch: Knight, Raymond among best so far in Atlantic Division', 'subheader': 'Panthers goalie picking up where he left off last season; Red Wings forward has nine points in nine games', 'date': '2021-11-01'}\n",
      "{'_id': ObjectId('61808951c105e1cc9d2d7751'), 'header': 'Markstrom leads 3 Stars of the Week', 'subheader': 'Flames goalie, Senators forward Batherson, Lightning wing Killorn earn honors', 'date': '2021-11-01'}\n",
      "{'_id': ObjectId('61808951c105e1cc9d2d7752'), 'header': 'NHL Buzz: Kane returns to Blackhawks from COVID-19 protocol', 'subheader': 'Ellis week to week for Flyers; Niederreiter sidelined for Hurricanes', 'date': '2021-11-01'}\n",
      "{'_id': ObjectId('61808951c105e1cc9d2d7753'), 'header': 'Moore embraces role as Hockey Fights Cancer ambassador', 'subheader': 'Former NHL forward seeks to raise awareness of rare cancers in tribute to first wife', 'date': '2021-11-01'}\n",
      "{'_id': ObjectId('61808951c105e1cc9d2d7754'), 'header': 'Hockey Fights Cancer daily digest', 'subheader': 'Latest news, images from around NHL', 'date': '2021-11-01'}\n",
      "{'_id': ObjectId('61808951c105e1cc9d2d7755'), 'header': 'Color of Hockey: Koelzer debuts as first Black woman to coach NCAA team', 'subheader': 'All-American defenseman at Princeton helped build Division III Arcadia from scratch', 'date': '2021-11-01'}\n",
      "{'_id': ObjectId('61808951c105e1cc9d2d7756'), 'header': 'Wild proving resilient through injuries, COVID-19, coach says', 'subheader': 'Evason discusses leadership transition, Kaprizov, goaltending in Q&A with NHL.com', 'date': '2021-11-01'}\n",
      "{'_id': ObjectId('61808951c105e1cc9d2d7757'), 'header': 'NHL players go all out, dress up for Halloween', 'subheader': 'Creative costumes in abundance around the League this weekend', 'date': '2021-10-31'}\n",
      "{'_id': ObjectId('61808951c105e1cc9d2d7758'), 'header': 'Fantasy hockey top 10 waiver wire pickups', 'subheader': 'Killorn, Stephenson producing on top lines for Lightning, Golden Knights; podcast', 'date': '2021-11-01'}\n",
      "{'_id': ObjectId('61808951c105e1cc9d2d7759'), 'header': 'Projected lineups, starting goalies for today', 'subheader': 'Latest line combinations, defense pairs, injury news from NHL.com writers', 'date': '2021-11-01'}\n",
      "{'_id': ObjectId('61808951c105e1cc9d2d775a'), 'header': 'Commissioner Bettman, Beach discuss how NHL can better protect players', 'subheader': 'Former prospect came forward as John Doe in Blackhawks investigation this week', 'date': '2021-10-30'}\n",
      "{'_id': ObjectId('61808951c105e1cc9d2d775b'), 'header': \"Hockey Hall to remove Aldrich's name from Cup at Blackhawks' request\", 'subheader': 'Beach alleges sexual assault by then-video coach in 2010 with Chicago', 'date': '2021-10-29'}\n",
      "{'_id': ObjectId('61808951c105e1cc9d2d775c'), 'header': \"Jets GM Cheveldayoff won't be disciplined by NHL in Blackhawks case\", 'subheader': \"League cannot 'assign to him responsibility' for Chicago's actions or inactions, Commissioner Bettman says\", 'date': '2021-10-29'}\n",
      "{'_id': ObjectId('61808951c105e1cc9d2d775d'), 'header': 'NHL DFS player picks, projections', 'subheader': 'Daily fantasy strategies, advice for upcoming contests; podcast analysis', 'date': '2021-11-01'}\n",
      "{'_id': ObjectId('61808951c105e1cc9d2d775e'), 'header': \"Bruins, Panthers honor Hayes' life with special jerseys, tribute video\", 'subheader': 'Former Florida and Boston forward who died in August, remembered by teammates', 'date': '2021-10-30'}\n",
      "{'_id': ObjectId('61808951c105e1cc9d2d775f'), 'header': 'Bruins put on virtual Halloween show for children from local hospitals', 'subheader': 'Members of the team dressed as Snow White and the Seven Dwarfs to participate in spooky activities', 'date': '2021-10-30'}\n",
      "{'_id': ObjectId('61808951c105e1cc9d2d7760'), 'header': 'Jost, Compher scream, laugh their way through haunted house', 'subheader': 'Avalanche forwards ran away from clowns, other monsters in scary setting', 'date': '2021-10-29'}\n",
      "{'_id': ObjectId('61808951c105e1cc9d2d7761'), 'header': 'Red Wings pull off wild sequence of blocks, saves against Panthers', 'subheader': 'Crowd at Little Caesars Arena went crazy for collective defensive effort', 'date': '2021-10-30'}\n",
      "{'_id': ObjectId('61808951c105e1cc9d2d7762'), 'header': 'Fantasy hockey top 200 player rankings', 'subheader': 'Most valuable overall options for standard league drafts; season preview podcasts', 'date': '2021-10-29'}\n",
      "{'_id': ObjectId('61808951c105e1cc9d2d7763'), 'header': 'Rielly signs eight-year, $60 million contract with Maple Leafs', 'subheader': 'Defenseman, longest-tenured player on team, could have become unrestricted free agent after season', 'date': '2021-10-29'}\n",
      "{'_id': ObjectId('61808951c105e1cc9d2d7764'), 'header': 'Kyle Beach comes forward as John Doe in Blackhawks investigation', 'subheader': 'Alleges he was sexually assaulted by former Chicago video coach Aldrich in 2010', 'date': '2021-10-28'}\n",
      "{'_id': ObjectId('61808951c105e1cc9d2d7765'), 'header': 'Quenneville resigns as Panthers coach, named in Blackhawks investigation', 'subheader': 'Beach alleges sexual assault by then-assistant Aldrich in 2010 with Chicago; Brunette named replacement', 'date': '2021-10-29'}\n",
      "{'_id': ObjectId('61808951c105e1cc9d2d7766'), 'header': 'Hughes expected to be out at least five more weeks for Devils with injury', 'subheader': 'Center will not need surgery for dislocated shoulder, has begun physical therapy', 'date': '2021-10-29'}\n",
      "{'_id': ObjectId('61808951c105e1cc9d2d7767'), 'header': 'On Campus: Top NHL prospects playing NCAA hockey', 'subheader': 'Michigan stars Power, Beniers, Johnson among best', 'date': '2021-10-28'}\n"
     ]
    }
   ],
   "source": [
    "# Display the MongoDB records created above\n",
    "articles = db.articles.find()\n",
    "for article in articles:\n",
    "    print(article)"
   ]
  },
  {
   "cell_type": "code",
   "execution_count": null,
   "id": "2176acfb",
   "metadata": {},
   "outputs": [],
   "source": []
  }
 ],
 "metadata": {
  "kernelspec": {
   "display_name": "Python 3",
   "language": "python",
   "name": "python3"
  },
  "language_info": {
   "codemirror_mode": {
    "name": "ipython",
    "version": 3
   },
   "file_extension": ".py",
   "mimetype": "text/x-python",
   "name": "python",
   "nbconvert_exporter": "python",
   "pygments_lexer": "ipython3",
   "version": "3.7.10"
  }
 },
 "nbformat": 4,
 "nbformat_minor": 5
}
